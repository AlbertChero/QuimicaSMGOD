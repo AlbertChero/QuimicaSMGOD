{
  "nbformat": 4,
  "nbformat_minor": 0,
  "metadata": {
    "colab": {
      "provenance": [],
      "include_colab_link": true
    },
    "kernelspec": {
      "name": "python3",
      "display_name": "Python 3"
    },
    "language_info": {
      "name": "python"
    },
    "widgets": {
      "application/vnd.jupyter.widget-state+json": {
        "d4691835f4474884829213796343340f": {
          "model_module": "faerun-notebook",
          "model_name": "SmilesDrawerModel",
          "model_module_version": "^0.1.5",
          "state": {
            "_dom_classes": [],
            "_model_module": "faerun-notebook",
            "_model_module_version": "^0.1.5",
            "_model_name": "SmilesDrawerModel",
            "_view_count": null,
            "_view_module": "faerun-notebook",
            "_view_module_version": "^0.1.5",
            "_view_name": "SmilesDrawerView",
            "background": "#1e1e1e",
            "border": true,
            "layout": "IPY_MODEL_35b7ce94b6e84d4c985918e50984dcd7",
            "options": {
              "scale": 1.25
            },
            "output": "svg",
            "theme": "dark",
            "value": [
              [
                "Rxn",
                "C(C1C(C(C(C(O1)O)O)O)O)O.O=O>>C(=O)=O.O"
              ]
            ]
          }
        },
        "35b7ce94b6e84d4c985918e50984dcd7": {
          "model_module": "@jupyter-widgets/base",
          "model_name": "LayoutModel",
          "model_module_version": "1.2.0",
          "state": {
            "_model_module": "@jupyter-widgets/base",
            "_model_module_version": "1.2.0",
            "_model_name": "LayoutModel",
            "_view_count": null,
            "_view_module": "@jupyter-widgets/base",
            "_view_module_version": "1.2.0",
            "_view_name": "LayoutView",
            "align_content": null,
            "align_items": null,
            "align_self": null,
            "border": null,
            "bottom": null,
            "display": null,
            "flex": null,
            "flex_flow": null,
            "grid_area": null,
            "grid_auto_columns": null,
            "grid_auto_flow": null,
            "grid_auto_rows": null,
            "grid_column": null,
            "grid_gap": null,
            "grid_row": null,
            "grid_template_areas": null,
            "grid_template_columns": null,
            "grid_template_rows": null,
            "height": null,
            "justify_content": null,
            "justify_items": null,
            "left": null,
            "margin": null,
            "max_height": null,
            "max_width": null,
            "min_height": null,
            "min_width": null,
            "object_fit": null,
            "object_position": null,
            "order": null,
            "overflow": null,
            "overflow_x": null,
            "overflow_y": null,
            "padding": null,
            "right": null,
            "top": null,
            "visibility": null,
            "width": null
          }
        }
      }
    }
  },
  "cells": [
    {
      "cell_type": "markdown",
      "metadata": {
        "id": "view-in-github",
        "colab_type": "text"
      },
      "source": [
        "<a href=\"https://colab.research.google.com/github/AlbertChero/QuimicaSMGOD/blob/main/QuimicaSMGOD/PRACTICA_CALIFICADA_1/copia_de_pc_1_quimica_unmsm.ipynb\" target=\"_parent\"><img src=\"https://colab.research.google.com/assets/colab-badge.svg\" alt=\"Open In Colab\"/></a>"
      ]
    },
    {
      "cell_type": "markdown",
      "source": [
        "$$\\Large \\textit{UNMSM | Química}$$\n",
        "$$\\large \\textbf{PC Nº1 | Materia y clasificación}$$\n",
        "\n",
        "_Profesor: Jesus Alvarado Huayhuaz_"
      ],
      "metadata": {
        "id": "sDJAjbaQOj4x"
      }
    },
    {
      "cell_type": "markdown",
      "source": [
        "Todas las indicaciones para la presentación de la práctica son explicadas en clase y brindadas en el material de enunciado de preguntas en formato PDF."
      ],
      "metadata": {
        "id": "_DsTzWLoP7Fy"
      }
    },
    {
      "cell_type": "markdown",
      "source": [
        "## Pregunta 1: Sobre el ABC de python (4 puntos)"
      ],
      "metadata": {
        "id": "obD7c2igOD6t"
      }
    },
    {
      "cell_type": "markdown",
      "source": [
        "Durante la semana de revisión del material \"ABC de python\", reflexiona sobre qué conceptos aprendiste con claridad y cuáles consideras los más desafiantes. A continuación resuelve los siguiente ejercicios, puedes ayudarte del material en http://bit.ly/3YKICSZ."
      ],
      "metadata": {
        "id": "emt93S7dL7QH"
      }
    },
    {
      "cell_type": "code",
      "source": [],
      "metadata": {
        "id": "UR2weLSSj6kL"
      },
      "execution_count": null,
      "outputs": []
    },
    {
      "cell_type": "code",
      "source": [
        "# Imprime la versión de python que usas y las palabras reservadas de python para esa versión."
      ],
      "metadata": {
        "id": "6mJvqMN0LTU8"
      },
      "execution_count": null,
      "outputs": []
    },
    {
      "cell_type": "code",
      "source": [
        "import sys\n",
        "print(\"Version actual de python: \")\n",
        "print (sys.version)"
      ],
      "metadata": {
        "id": "M5Wny8jzj8bE",
        "colab": {
          "base_uri": "https://localhost:8080/"
        },
        "outputId": "9bcab7de-004f-4c7c-d477-7c963299a57c"
      },
      "execution_count": null,
      "outputs": [
        {
          "output_type": "stream",
          "name": "stdout",
          "text": [
            "Version actual de python: \n",
            "3.10.12 (main, Jun 11 2023, 05:26:28) [GCC 11.4.0]\n"
          ]
        }
      ]
    },
    {
      "cell_type": "code",
      "source": [
        "# Crea una matriz de 3x3 e imprime la suma de los elementos en su diagonal (traza)."
      ],
      "metadata": {
        "id": "MxDzGypdLTXh"
      },
      "execution_count": null,
      "outputs": []
    },
    {
      "cell_type": "code",
      "source": [
        "matriz = [\n",
        "    [1, 2, 3],\n",
        "    [4, 5, 6],\n",
        "    [7, 8, 9]\n",
        "]\n",
        "print(\"Matriz:\")\n",
        "\n",
        "for fila in matriz:\n",
        "    print(fila)\n",
        "suma_diagonal = 0\n",
        "for i in range(len(matriz)):\n",
        "    suma_diagonal += matriz[i][i]\n",
        "\n",
        "print(\"La suma de la diagonal es:\", suma_diagonal)"
      ],
      "metadata": {
        "colab": {
          "base_uri": "https://localhost:8080/"
        },
        "id": "QWCvqg1nkTID",
        "outputId": "eb8f4675-08e6-4b5f-83a9-1dc2589a0abe"
      },
      "execution_count": null,
      "outputs": [
        {
          "output_type": "stream",
          "name": "stdout",
          "text": [
            "Matriz:\n",
            "[1, 2, 3]\n",
            "[4, 5, 6]\n",
            "[7, 8, 9]\n",
            "La suma de la diagonal es: 15\n"
          ]
        }
      ]
    },
    {
      "cell_type": "code",
      "source": [
        "# Guarda como variable la masa atómica de los elementos C, H y O, e imprime la masa molecular del etanol."
      ],
      "metadata": {
        "id": "MyhNX7JmLTSe"
      },
      "execution_count": null,
      "outputs": []
    },
    {
      "cell_type": "code",
      "source": [
        "masa_C = 12.01\n",
        "masa_H = 1.01\n",
        "masa_O = 16.00\n",
        "\n",
        "print (\"Composicion del etanol: C2H6O\")\n",
        "num_C = 2\n",
        "num_H = 6\n",
        "num_O = 1\n",
        "masa_molecular_etanol = (num_C * masa_C) + (num_H * masa_H) + (num_O * masa_O)\n",
        "print (\"La masa molecular del etanol es:\", masa_molecular_etanol,\"u\" )"
      ],
      "metadata": {
        "colab": {
          "base_uri": "https://localhost:8080/"
        },
        "id": "b7SU4qwgkZzp",
        "outputId": "75caf3ca-f85a-47c5-f3df-fd03f2769c2a"
      },
      "execution_count": null,
      "outputs": [
        {
          "output_type": "stream",
          "name": "stdout",
          "text": [
            "Composicion del etanol: C2H6O\n",
            "La masa molecular del etanol es: 46.08 u\n"
          ]
        }
      ]
    },
    {
      "cell_type": "code",
      "source": [
        "# Busca la temperatura de fusión en Celsius de 5 metales y guárdalos en una lista. Imprime las temperaturas en Kelvin"
      ],
      "metadata": {
        "id": "NCOnJ0FwgLLc"
      },
      "execution_count": null,
      "outputs": []
    },
    {
      "cell_type": "code",
      "source": [
        "metales=[\"plata\",\"oro\",\"hierro\",\"estaño\",\"tungsteno\"]\n",
        "temp_fusion= [962,1064,232,1538,3422]\n",
        "print(\"Temperatura en kelvin de 5 metales\")\n",
        "for i in range(len(metales)):\n",
        "    metal=temp_fusion[i]+273.15\n",
        "    print (metales[i],\":\",metal, \"K\")\n"
      ],
      "metadata": {
        "colab": {
          "base_uri": "https://localhost:8080/"
        },
        "id": "-9a7JriokhOE",
        "outputId": "c84dc567-b7e5-4c8b-88cd-84cac4eb0d2d"
      },
      "execution_count": null,
      "outputs": [
        {
          "output_type": "stream",
          "name": "stdout",
          "text": [
            "Temperatura en kelvin de 5 metales\n",
            "plata : 1235.15 K\n",
            "oro : 1337.15 K\n",
            "hierro : 505.15 K\n",
            "estaño : 1811.15 K\n",
            "tungsteno : 3695.15 K\n"
          ]
        }
      ]
    },
    {
      "cell_type": "markdown",
      "source": [
        "## Pregunta 2: Operaciones (4 puntos)"
      ],
      "metadata": {
        "id": "epzOadagLfPi"
      }
    },
    {
      "cell_type": "markdown",
      "source": [
        "Escribe un programa que lea repetidamente elementos químicos en español hasta que el usuario introduzca “fin”. Una vez se haya introducido “fin”, muestra por pantalla (o sea imprime) el total de elementos ingresados. Si el usuario introduce cualquier otra cosa que no sea un elemento químico, detecta su fallo usando try y except, muestra un mensaje de error y pasa al siguiente elemento."
      ],
      "metadata": {
        "id": "MbAEOGPsjOWZ"
      }
    },
    {
      "cell_type": "code",
      "source": [
        "print (\"Pregunta 2\")\n",
        "\n",
        "elementos_quimicos = [\n",
        "    \"hidrogeno\",\"litio\",\"oro\",\"oxigeno\",\"mercurio\"\n",
        "]\n",
        "saved_elementos=[]\n",
        "contador=0\n",
        "i=0\n",
        "while True:\n",
        "    elemento=input(\"Inserte un elemento quimico o escriba fin para terminar: \")\n",
        "    if elemento==\"fin\":\n",
        "        break\n",
        "    try:\n",
        "        if elemento in elementos_quimicos:\n",
        "            saved_elementos.append(elemento)\n",
        "            contador+=1\n",
        "        else:\n",
        "            raise NameError\n",
        "    except NameError:\n",
        "        print (\"Elemento desconocido\")\n",
        "print(\"Los elementos son: \")\n",
        "for elem in saved_elementos:\n",
        "  print(elem)\n",
        "print(\"El numero de elementos insertados es: \",contador)\n"
      ],
      "metadata": {
        "id": "gJGX0p5QLetj",
        "colab": {
          "base_uri": "https://localhost:8080/"
        },
        "outputId": "1455bb20-fcaf-42dc-da1f-16ab317856a5"
      },
      "execution_count": 10,
      "outputs": [
        {
          "output_type": "stream",
          "name": "stdout",
          "text": [
            "Pregunta 2\n",
            "Inserte un elemento quimico o escriba fin para terminar: hidrogeno\n",
            "Inserte un elemento quimico o escriba fin para terminar: casa\n",
            "Elemento desconocido\n",
            "Inserte un elemento quimico o escriba fin para terminar: oxigeno\n",
            "Inserte un elemento quimico o escriba fin para terminar: fin\n",
            "Los elementos son: \n",
            "hidrogeno\n",
            "oxigeno\n",
            "El numero de elementos insertados es:  2\n"
          ]
        }
      ]
    },
    {
      "cell_type": "markdown",
      "source": [
        "# Pregunta 3: Conservación de la masa (4 puntos)"
      ],
      "metadata": {
        "id": "8gxSHpD3LZsh"
      }
    },
    {
      "cell_type": "markdown",
      "source": [
        "### Código necesario para generar la imagen"
      ],
      "metadata": {
        "id": "mMV9c3hDl7KL"
      }
    },
    {
      "cell_type": "code",
      "source": [
        "!pip install faerun-notebook==0.1.5b0\n",
        "\n",
        "import ipywidgets as widgets\n",
        "from faerun_notebook import SmilesDrawer\n",
        "from google.colab import output\n",
        "output.enable_custom_widget_manager()"
      ],
      "metadata": {
        "id": "JgF8Ohtbky65"
      },
      "execution_count": null,
      "outputs": []
    },
    {
      "cell_type": "markdown",
      "source": [
        "### Reacción química"
      ],
      "metadata": {
        "id": "5sLC10D_oSrV"
      }
    },
    {
      "cell_type": "markdown",
      "source": [
        "Demuestra cómo se cumple la conservación de la masa en la siguiente reacción química. Sugerencia: hacer un balance estequiométrico y luego emplear la masa molecular de reactivos y productos."
      ],
      "metadata": {
        "id": "OVRhAzaVmD86"
      }
    },
    {
      "cell_type": "code",
      "source": [
        "SmilesDrawer(value=[(\"Rxn\", \"C(C1C(C(C(C(O1)O)O)O)O)O.O=O>>C(=O)=O.O\")], theme='dark', background=\"#1e1e1e\", options={'scale': 1.25})"
      ],
      "metadata": {
        "colab": {
          "base_uri": "https://localhost:8080/",
          "height": 289,
          "referenced_widgets": [
            "d4691835f4474884829213796343340f",
            "35b7ce94b6e84d4c985918e50984dcd7"
          ]
        },
        "id": "CC0mAXWmnYyN",
        "outputId": "fb9a2a33-11fa-47cd-bffe-ce9c285db1d8"
      },
      "execution_count": null,
      "outputs": [
        {
          "output_type": "display_data",
          "data": {
            "text/plain": [
              "SmilesDrawer(background='#1e1e1e', options={'scale': 1.25}, theme='dark', value=[('Rxn', 'C(C1C(C(C(C(O1)O)O)O…"
            ],
            "application/vnd.jupyter.widget-view+json": {
              "version_major": 2,
              "version_minor": 0,
              "model_id": "d4691835f4474884829213796343340f"
            }
          },
          "metadata": {
            "application/vnd.jupyter.widget-view+json": {
              "colab": {
                "custom_widget_manager": {
                  "url": "https://ssl.gstatic.com/colaboratory-static/widgets/colab-cdn-widget-manager/b3e629b1971e1542/manager.min.js"
                }
              }
            }
          }
        }
      ]
    },
    {
      "cell_type": "code",
      "source": [
        "!pip install ChemPy\n",
        "from chempy import balance_stoichiometry"
      ],
      "metadata": {
        "id": "0bR8M9wTxK1y"
      },
      "execution_count": null,
      "outputs": []
    },
    {
      "cell_type": "code",
      "source": [
        "peso_c=12\n",
        "peso_h=1\n",
        "peso_o=16\n",
        "reactivos,productos=balance_stoichiometry({'C6H5O6','O2'},{'CO2','H2O'})\n",
        "reactivo_peso1=(6*peso_c)+(5*peso_h)+(6*peso_o)\n",
        "reactivo_peso2=2*peso_o\n",
        "producto_peso1=peso_c+(2*peso_o)\n",
        "producto_peso2=(2*peso_h)+peso_o\n",
        "coeficientes_productos = list(productos.values())\n",
        "coeficientes_reactivos = list(reactivos.values())\n",
        "pesototal_C6H5O5=coeficientes_reactivos[0]*reactivo_peso1\n",
        "pesototal_O2=coeficientes_reactivos[1]*reactivo_peso2\n",
        "pesototal_CO2=coeficientes_productos[0]*producto_peso1\n",
        "pesototal_H2O=coeficientes_productos[1]*producto_peso2\n",
        "total_reactivos=pesototal_C6H5O5+pesototal_O2\n",
        "total_productos=pesototal_CO2+pesototal_H2O\n",
        "print(\"Formula C6H5O6 + O2 -> CO2 + H2\")\n",
        "print(\"Peso molar del carbono: \",peso_c,\"mol\")\n",
        "print(\"Peso molar del oxigeno: \",peso_o,\"mol\")\n",
        "print(\"Peso molar del hidrogeno: \",peso_h,\"mol\")\n",
        "print(\"Peso del C6H5O6: \",reactivo_peso1,\"mol\")\n",
        "print(\"Peso del O2: \",reactivo_peso2,\"mol\")\n",
        "print(\"Peso del CO2: \",producto_peso1,\"mol\")\n",
        "print(\"Peso del H2: \",producto_peso2,\"mol\")\n",
        "print(\"Ecuación balanceada en chempy:\",coeficientes_reactivos[0],\" C6H5O6 + \",coeficientes_reactivos[1],\" O2 = \",coeficientes_productos[0],\" CO2 + \",coeficientes_productos[1],\" H2O \")\n",
        "print(\"Peso balanceado del C6H5O6: \",pesototal_C6H5O5)\n",
        "print(\"Peso balanceado del O2: \",pesototal_O2)\n",
        "print(\"Peso balanceado del CO2: \",pesototal_CO2)\n",
        "print(\"Peso balanceado del H2: \",pesototal_H2O)\n",
        "print(\"Peso total de reactivos: \",total_reactivos)\n",
        "print(\"Peso total de productos: \",total_productos)\n",
        "if total_reactivos == total_productos:\n",
        "    print(\"Se cumple la ley de conservación de la masa\")\n",
        "else:\n",
        "    print(\"No se cumple la ley de conservación de la masa\")\n"
      ],
      "metadata": {
        "colab": {
          "base_uri": "https://localhost:8080/"
        },
        "id": "TuFx_Qc8lsSo",
        "outputId": "170fd21c-11ea-44a0-ef80-6bf6a6bcade0"
      },
      "execution_count": 3,
      "outputs": [
        {
          "output_type": "stream",
          "name": "stdout",
          "text": [
            "Formula C6H5O6 + O2 -> CO2 + H2\n",
            "Peso molar del carbono:  12 mol\n",
            "Peso molar del oxigeno:  16 mol\n",
            "Peso molar del hidrogeno:  1 mol\n",
            "Peso del C6H5O6:  173 mol\n",
            "Peso del O2:  32 mol\n",
            "Peso del CO2:  44 mol\n",
            "Peso del H2:  18 mol\n",
            "Ecuación balanceada en chempy: 4  C6H5O6 +  17  O2 =  24  CO2 +  10  H2O \n",
            "Peso balanceado del C6H5O6:  692\n",
            "Peso balanceado del O2:  544\n",
            "Peso balanceado del CO2:  1056\n",
            "Peso balanceado del H2:  180\n",
            "Peso total de reactivos:  1236\n",
            "Peso total de productos:  1236\n",
            "Se cumple la ley de conservación de la masa\n"
          ]
        }
      ]
    },
    {
      "cell_type": "markdown",
      "source": [
        "## Pregunta 4: Notación científica (4 puntos)"
      ],
      "metadata": {
        "id": "Rh-nAUiKhJNB"
      }
    },
    {
      "cell_type": "markdown",
      "source": [
        "Imprime las siguientes operaciones según la notación científica:\n",
        "\n",
        "(1) $1.321 \\times 10^{-4} + 8.5 \\times 10^{-2}$\n",
        "\n",
        "(2) $1.71 \\times 10^{3} - 2.01 \\times 10^{2}\\$\n",
        "\n",
        "(3) $(7.4 \\times 10^5)(7.2 \\times 10^4)$\n",
        "\n",
        "(4) $(7.4 \\times 10^5)/(7.2 \\times 10^4)$"
      ],
      "metadata": {
        "id": "NIkI45Xdqqnt"
      }
    },
    {
      "cell_type": "code",
      "source": [
        "# Operación (1)\n",
        "op1 = 1.321e-4 + 8.5e-2\n",
        "print(\"Operación (1):\", \"{:.2e}\".format(op1))\n",
        "\n",
        "# Operación (2)\n",
        "op2 = 1.71e3 - 2.01e2\n",
        "print(\"Operación (2):\", \"{:.2e}\".format(op2))\n",
        "\n",
        "# Operación (3)\n",
        "op3 = (7.4e5) * (7.2e4)\n",
        "print(\"Operación (3):\", \"{:.2e}\".format(op3))\n",
        "\n",
        "# Operación (4)\n",
        "op4 = (7.4e5) / (7.2e4)\n",
        "print(\"Operación (4):\", \"{:.2e}\".format(op4))"
      ],
      "metadata": {
        "id": "aeoD8ukpzHe_"
      },
      "execution_count": null,
      "outputs": []
    },
    {
      "cell_type": "markdown",
      "source": [
        "## Pregunta 5: Método científico (4 puntos)"
      ],
      "metadata": {
        "id": "CuzCcXJghR14"
      }
    },
    {
      "cell_type": "markdown",
      "source": [
        "Artículo: https://bit.ly/3surZ1W\n",
        "Leer el siguiente artículo y explica cómo es aplicado el método científico. Emplea como máximo 300 palabras."
      ],
      "metadata": {
        "id": "WngRSR-Rhmx1"
      }
    },
    {
      "cell_type": "markdown",
      "source": [
        "En este artículo, los investigadores utilizaron el método científico para investigar las propiedades de LK-99 y determinar si era un superconductor. La observación inicial fue que LK-99 exhibía una fuerte caída en la resistividad a una temperatura particular, que es un comportamiento característico de los superconductores. Basándose en esta observación, los investigadores formularon la hipótesis de que LK-99 era un superconductor. Para probar esta hipótesis, los investigadores realizaron experimentos para medir la resistividad de LK-99 a diferentes temperaturas. Descubrieron que la resistividad del LK-99 efectivamente caía bruscamente a una temperatura particular, pero este comportamiento no era consistente con el de un superconductor. Luego investigaron la causa de este comportamiento y descubrieron que las impurezas en el material eran responsables de la caída de resistividad observada. Para probar aún más su hipótesis, los investigadores sintetizaron cristales puros de LK-99 y midieron su resistividad. Descubrieron que los cristales puros no presentaban la misma caída de resistividad que las muestras impuras, lo que confirma que las impurezas eran responsables del comportamiento observado. A través de este proceso de prueba de hipótesis y experimentación, los investigadores pudieron aclarar las propiedades reales de LK-99 y refutar las afirmaciones iniciales de superconductividad. Este es un ejemplo de cómo se utiliza el método científico para probar y refinar hipótesis con el fin de obtener una mejor comprensión del mundo natural."
      ],
      "metadata": {
        "id": "rbFapzO39YZq"
      }
    }
  ]
}